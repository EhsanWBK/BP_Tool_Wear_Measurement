{
 "cells": [
  {
   "cell_type": "markdown",
   "metadata": {},
   "source": [
    "# 1. Image Labelling"
   ]
  },
  {
   "cell_type": "markdown",
   "metadata": {},
   "source": [
    "Now, let's dive into the process of labelling images using the Image Labeler app in MATLAB. This step-by-step guide will help you annotate the wear sites within the images effectively.\n",
    "\n",
    "* Open MATLAB and Launch the Image Labeler App:\n",
    "    * Navigate to the APPS tab.\n",
    "    * Click on Image Labeler.\n",
    "* Import Images:\n",
    "    * In the Label Toolbar within the Image Labeler app, select Import.\n",
    "    * Choose From File and select the images you downloaded earlier.\n",
    "* Define Pixel Labels:\n",
    "    * In the ROI Labels section, select Label.\n",
    "    * Choose Pixel label and add a label name (e.g., \"Wear Site\").\n",
    "* Annotation Process:\n",
    "    * Use the Polygon tool to mark the wear areas within the images accurately.\n",
    "* Save Your Progress:\n",
    "    * Save the session by clicking on the save icon or using the shortcut Ctrl + S.\n",
    "    * This will create an imageLabellingSession.mat file, preserving your annotations.\n",
    "* Export Labelled Images:\n",
    "    * Once you've finished annotating all the images, it's time to export the ground truth data.\n",
    "    * In the Label Toolbar, select Export to File.\n",
    "<div style=\"text-align: center;\">\n",
    "    <img src=\"VC_Images/Img_01.png\" alt=\"Alt text\" style=\"display: block; margin: 0 auto;\">\n",
    "</div>\n"
   ]
  },
  {
   "cell_type": "markdown",
   "metadata": {},
   "source": [
    "# 2. Mask Generating"
   ]
  },
  {
   "cell_type": "markdown",
   "metadata": {},
   "source": [
    "To convert the ground truth annotations into masks, we will apply linearly distributed thresholds to obtain the original class values. This process allows us to translate the labelled regions into binary masks, facilitating further analysis and model training."
   ]
  },
  {
   "cell_type": "code",
   "execution_count": 27,
   "metadata": {},
   "outputs": [],
   "source": [
    "import os\n",
    "import cv2\n",
    "import numpy as np\n",
    "from PIL import Image\n",
    "from skimage import io, img_as_ubyte\n",
    "import random\n",
    "from scipy.ndimage import rotate"
   ]
  },
  {
   "cell_type": "code",
   "execution_count": null,
   "metadata": {},
   "outputs": [],
   "source": [
    "# Get the current working directory\n",
    "current_dir = os.getcwd()\n",
    "\n",
    "# Now create the path to the folder with Images for Converting\n",
    "readDirectory = os.path.join(current_dir, 'Image_Dataset/02_Labeled_Images')\n",
    "writeDirectory = os.path.join(current_dir, 'Image_Dataset/03_Converted_Masks')"
   ]
  },
  {
   "cell_type": "code",
   "execution_count": 14,
   "metadata": {},
   "outputs": [
    {
     "name": "stdout",
     "output_type": "stream",
     "text": [
      "Dataset size:  35\n",
      "Found Colors (unique greyscale values [0..255]):  2\n",
      "Minimum Threshold: 0\n",
      "Maximum Threshold: 1\n",
      "New greyscale values:  [  0. 255.]\n"
     ]
    }
   ],
   "source": [
    "numClasses = 2  # Number of classes used for classification\n",
    "\n",
    "# Find different color values\n",
    "img_name_list = sorted(os.listdir(readDirectory))\n",
    "print('Dataset size: ', len(img_name_list))\n",
    "\n",
    "# Find unique colors and list them\n",
    "uniqueColors = set()\n",
    "for img_name in img_name_list:\n",
    "    img_path = os.path.join(readDirectory, img_name)\n",
    "    img = cv2.imread(img_path, flags=0)  # Open image in greyscale mode\n",
    "    uniqueColors |= set(np.unique(img))\n",
    "print(\"Found Colors (unique greyscale values [0..255]): \", len(uniqueColors))\n",
    "\n",
    "# Categorize using thresholds\n",
    "minimum = min(uniqueColors)\n",
    "maximum = max(uniqueColors)\n",
    "print('Minimum Threshold: ' + str(minimum))\n",
    "print('Maximum Threshold: ' + str(maximum))\n",
    "\n",
    "# Generate linearly distributed thresholds\n",
    "thresholds = np.linspace(start=minimum, stop=maximum + 1, num=numClasses + 1)\n",
    "\n",
    "# Generate linearly distributed classes [0..255]\n",
    "colorClasses = np.linspace(start=0, stop=255, num=numClasses)\n",
    "print(\"New greyscale values: \", colorClasses)\n",
    "\n",
    "# Apply thresholds on masks\n",
    "for img_name in img_name_list:\n",
    "    img_path = os.path.join(readDirectory, img_name)\n",
    "    img = cv2.imread(img_path, flags=0)\n",
    "\n",
    "    # Using discrete values from colorClasses as new values\n",
    "    for c in range(numClasses):\n",
    "        img[(thresholds[c] <= img) & (thresholds[c + 1] > img)] = colorClasses[c]\n",
    "\n",
    "    # Save mask as .png (no compression loss)\n",
    "    img_path = os.path.join(writeDirectory, img_name.split(\".\")[0] + \".png\")\n",
    "    cv2.imwrite(img_path, img)"
   ]
  },
  {
   "cell_type": "markdown",
   "metadata": {},
   "source": [
    "# 3. ROI Extracting"
   ]
  },
  {
   "cell_type": "markdown",
   "metadata": {},
   "source": [
    "The images are large in size (above 2000 x 2000 pixels), so it is better to extract the area that is important to us by using a cropping function. This cropping process should be applied to both the image and the respective masks.\n",
    "\n",
    "<div style=\"text-align: center;\">\n",
    "    <img src=\"VC_Images/Img_02.png\" alt=\"Alt text\" style=\"display: block; margin: 0 auto;\">\n",
    "</div>"
   ]
  },
  {
   "cell_type": "code",
   "execution_count": 9,
   "metadata": {},
   "outputs": [],
   "source": [
    "# Get the current working directory\n",
    "Image_Dir_Inp = os.path.join(current_dir, 'Image_Dataset/01_Image_Labelling')\n",
    "Image_Dir_Out = os.path.join(current_dir, 'Image_Dataset/04_Region_Of_Interest/01_Images')\n",
    "Mask_Dir_Inp = os.path.join(current_dir, 'Image_Dataset/03_Converted_Masks')\n",
    "Mask_Dir_Out = os.path.join(current_dir, 'Image_Dataset/04_Region_Of_Interest/02_Masks')"
   ]
  },
  {
   "cell_type": "code",
   "execution_count": 16,
   "metadata": {},
   "outputs": [],
   "source": [
    "# ROI For Image    \n",
    "for filename in os.listdir(Image_Dir_Inp): \n",
    "    if filename.endswith(('.jpg', '.jpeg', '.png')):\n",
    "        # Open the image\n",
    "        img_path = os.path.join(Image_Dir_Inp, filename)\n",
    "        img = cv2.imread(img_path)  \n",
    "        imgheight = img.shape[0]\n",
    "        imgwidth = img.shape[1]\n",
    "        # Slicing to crop the image\n",
    "        cropped_image = img[int(imgwidth/2)-1000:int(imgwidth/2)+1000, int(imgheight/2)-700:int(imgheight/2)+700]\n",
    "\n",
    "        # Output filename with \"_cropped\" added\n",
    "        output_filename = os.path.splitext(filename)[0] + \"_cropped.png\"\n",
    "\n",
    "        # Save the cropped image to the output directory\n",
    "        output_path = os.path.join(Image_Dir_Out, output_filename)\n",
    "        cv2.imwrite(output_path, cropped_image)"
   ]
  },
  {
   "cell_type": "code",
   "execution_count": 15,
   "metadata": {},
   "outputs": [],
   "source": [
    "# ROI For Masks   \n",
    "for filename in os.listdir(Image_Dir_Inp): \n",
    "    if filename.endswith(('.jpg', '.jpeg', '.png')):\n",
    "        # Open the image\n",
    "        img_path = os.path.join(Image_Dir_Inp, filename)\n",
    "        img = cv2.imread(img_path)  \n",
    "        imgheight = img.shape[0]\n",
    "        imgwidth = img.shape[1]\n",
    "        # Slicing to crop the image\n",
    "        cropped_image = img[int(imgwidth/2)-1000:int(imgwidth/2)+1000, int(imgheight/2)-700:int(imgheight/2)+700]\n",
    "\n",
    "        # Output filename with \"_cropped\" added\n",
    "        output_filename = os.path.splitext(filename)[0] + \"_cropped.png\"\n",
    "\n",
    "        # Save the cropped image to the output directory\n",
    "        output_path = os.path.join(Image_Dir_Out, output_filename)\n",
    "        cv2.imwrite(output_path, cropped_image)"
   ]
  },
  {
   "cell_type": "markdown",
   "metadata": {},
   "source": [
    "# 4. Data Converting"
   ]
  },
  {
   "cell_type": "markdown",
   "metadata": {},
   "source": [
    "It is recommended to convert the format of both the image and mask to TIFF format, which is suitable for the Convolutional Neural Network (CNN) model that will be used."
   ]
  },
  {
   "cell_type": "code",
   "execution_count": 17,
   "metadata": {},
   "outputs": [],
   "source": [
    "# Get the current working directory\n",
    "ROI_Image_Dir_Inp = os.path.join(current_dir, 'Image_Dataset/04_Region_Of_Interest/01_Images')\n",
    "TIFF_Image_Dir_Out = os.path.join(current_dir, 'Image_Dataset/05_Format_Converting/01_Images')\n",
    "ROI_Mask_Dir_Inp = os.path.join(current_dir, 'Image_Dataset/04_Region_Of_Interest/02_Masks')\n",
    "TIFF_Mask_Dir_Out = os.path.join(current_dir, 'Image_Dataset/05_Format_Converting/02_Masks')"
   ]
  },
  {
   "cell_type": "code",
   "execution_count": 20,
   "metadata": {},
   "outputs": [
    {
     "name": "stdout",
     "output_type": "stream",
     "text": [
      "Conversion completed.\n"
     ]
    }
   ],
   "source": [
    "# Format tif For Image   \n",
    "for filename in os.listdir(ROI_Image_Dir_Inp):\n",
    "    if filename.endswith(('.jpg', '.jpeg', '.png')):  # Add other image formats if needed\n",
    "        # Open the image\n",
    "        img_path = os.path.join(ROI_Image_Dir_Inp, filename)\n",
    "        im = Image.open(img_path)\n",
    "        # Save the resized image in TIFF format to the output folder\n",
    "        output_path = os.path.join(TIFF_Image_Dir_Out, os.path.splitext(filename)[0] + '.tif')\n",
    "        im.save(output_path, 'TIFF')\n",
    "print(\"Conversion completed.\")\n"
   ]
  },
  {
   "cell_type": "code",
   "execution_count": 21,
   "metadata": {},
   "outputs": [
    {
     "name": "stdout",
     "output_type": "stream",
     "text": [
      "Conversion completed.\n"
     ]
    }
   ],
   "source": [
    "# Format tif For Mask   \n",
    "for filename in os.listdir(ROI_Mask_Dir_Inp):\n",
    "    if filename.endswith(('.jpg', '.jpeg', '.png')):  # Add other image formats if needed\n",
    "        # Open the image\n",
    "        img_path = os.path.join(ROI_Mask_Dir_Inp, filename)\n",
    "        im = Image.open(img_path)\n",
    "        # Save the resized image in TIFF format to the output folder\n",
    "        output_path = os.path.join(TIFF_Mask_Dir_Out, os.path.splitext(filename)[0] + '.tif')\n",
    "        im.save(output_path, 'TIFF')\n",
    "print(\"Conversion completed.\")"
   ]
  },
  {
   "cell_type": "markdown",
   "metadata": {},
   "source": [
    "# 4. Image Augmentation"
   ]
  },
  {
   "cell_type": "markdown",
   "metadata": {},
   "source": [
    "After extracting the ROI and converting the image and mask to TIFF format, we need to increase our dataset size using augmentation techniques. Here's how you can implement this method, ensuring that the image name and the respective mask name are the same:\n",
    "\n",
    "* Define Augmentation Parameters: Determine the augmentation techniques to apply, such as rotation, flipping, scaling, etc.\n",
    "\n",
    "* Loop Through Images: Iterate through each image and its corresponding mask.\n",
    "\n",
    "* Apply Augmentation: Apply the defined augmentation techniques to both the image and its mask.\n",
    "\n",
    "* Save Augmented Images: Save the augmented images and their masks with the same names as the original images and masks.\n",
    "\n",
    "<div style=\"text-align: center;\">\n",
    "    <img src=\"VC_Images/Img_03.png\" alt=\"Alt text\" style=\"display: block; margin: 0 auto;\">\n",
    "</div>"
   ]
  },
  {
   "cell_type": "code",
   "execution_count": 34,
   "metadata": {},
   "outputs": [],
   "source": [
    "# Get the current working directory\n",
    "images_path= os.path.join(current_dir, 'Image_Dataset/05_Format_Converting/01_Images')\n",
    "masks_path = os.path.join(current_dir, 'Image_Dataset/05_Format_Converting/02_Masks')\n",
    "img_augmented_path= os.path.join(current_dir, 'Image_Dataset/06_Image_Augmentation/01_Images')\n",
    "msk_augmented_path= os.path.join(current_dir, 'Image_Dataset/06_Image_Augmentation/02_Masks')"
   ]
  },
  {
   "cell_type": "code",
   "execution_count": 36,
   "metadata": {},
   "outputs": [],
   "source": [
    "#Define functions for each operation\n",
    "def rotation(image, seed):\n",
    "    random.seed(seed)\n",
    "    angle= 180\n",
    "    r_img = rotate(image, angle, mode='reflect', reshape=False, order=0)\n",
    "    return r_img\n",
    "\n",
    "def h_flip(image, seed):\n",
    "    hflipped_img= np.fliplr(image)\n",
    "    return  hflipped_img\n",
    "\n",
    "def v_flip(image, seed):\n",
    "    vflipped_img= np.flipud(image)\n",
    "    return vflipped_img\n",
    "\n",
    "def v_transl(image, seed):\n",
    "    random.seed(seed)\n",
    "    n_pixels = random.randint(-64,64)\n",
    "    vtranslated_img = np.roll(image, n_pixels, axis=0)\n",
    "    return vtranslated_img\n",
    "\n",
    "def h_transl(image, seed):\n",
    "    random.seed(seed)\n",
    "    n_pixels = random.randint(-64,64)\n",
    "    htranslated_img = np.roll(image, n_pixels, axis=1)\n",
    "    return htranslated_img\n",
    "\n",
    "transformations = {'rt': rotation,\n",
    "                      'hf': h_flip, \n",
    "                      'vf': v_flip\n",
    "                 }                #use dictionary to store names of functions"
   ]
  },
  {
   "cell_type": "code",
   "execution_count": null,
   "metadata": {},
   "outputs": [],
   "source": [
    "# to store paths of images from folder\n",
    "images=[] \n",
    "images_name=[]\n",
    "masks=[]\n",
    "masks_name=[]\n",
    "\n",
    "for im in os.listdir(images_path):  # read image name from folder and append its path into \"images\" array     \n",
    "    images.append(os.path.join(images_path,im))\n",
    "    images_name.append(im) \n",
    "\n",
    "for msk in os.listdir(masks_path):  # read mask name from folder and append its path into \"masks\" array     \n",
    "    masks.append(os.path.join(masks_path,msk))\n",
    "    masks_name.append(msk) "
   ]
  },
  {
   "cell_type": "code",
   "execution_count": 37,
   "metadata": {},
   "outputs": [
    {
     "name": "stderr",
     "output_type": "stream",
     "text": [
      "C:\\Users\\karimi\\AppData\\Local\\Temp\\ipykernel_24348\\3534118877.py:25: UserWarning: d:\\02-Project\\01-Wear Detection\\09-PROKI\\BP_Tool_Wear_Measurement\\Image_Dataset/06_Image_Augmentation/02_Masks/image0000885_cropped_aug_rt.tif is a low contrast image\n",
      "  io.imsave(new_mask_path, transformed_mask)\n",
      "C:\\Users\\karimi\\AppData\\Local\\Temp\\ipykernel_24348\\3534118877.py:25: UserWarning: d:\\02-Project\\01-Wear Detection\\09-PROKI\\BP_Tool_Wear_Measurement\\Image_Dataset/06_Image_Augmentation/02_Masks/image0000885_cropped_aug_hf.tif is a low contrast image\n",
      "  io.imsave(new_mask_path, transformed_mask)\n",
      "C:\\Users\\karimi\\AppData\\Local\\Temp\\ipykernel_24348\\3534118877.py:25: UserWarning: d:\\02-Project\\01-Wear Detection\\09-PROKI\\BP_Tool_Wear_Measurement\\Image_Dataset/06_Image_Augmentation/02_Masks/image0000885_cropped_aug_vf.tif is a low contrast image\n",
      "  io.imsave(new_mask_path, transformed_mask)\n",
      "C:\\Users\\karimi\\AppData\\Local\\Temp\\ipykernel_24348\\3534118877.py:25: UserWarning: d:\\02-Project\\01-Wear Detection\\09-PROKI\\BP_Tool_Wear_Measurement\\Image_Dataset/06_Image_Augmentation/02_Masks/image0000886_cropped_aug_rt.tif is a low contrast image\n",
      "  io.imsave(new_mask_path, transformed_mask)\n",
      "C:\\Users\\karimi\\AppData\\Local\\Temp\\ipykernel_24348\\3534118877.py:25: UserWarning: d:\\02-Project\\01-Wear Detection\\09-PROKI\\BP_Tool_Wear_Measurement\\Image_Dataset/06_Image_Augmentation/02_Masks/image0000886_cropped_aug_hf.tif is a low contrast image\n",
      "  io.imsave(new_mask_path, transformed_mask)\n",
      "C:\\Users\\karimi\\AppData\\Local\\Temp\\ipykernel_24348\\3534118877.py:25: UserWarning: d:\\02-Project\\01-Wear Detection\\09-PROKI\\BP_Tool_Wear_Measurement\\Image_Dataset/06_Image_Augmentation/02_Masks/image0000886_cropped_aug_vf.tif is a low contrast image\n",
      "  io.imsave(new_mask_path, transformed_mask)\n",
      "C:\\Users\\karimi\\AppData\\Local\\Temp\\ipykernel_24348\\3534118877.py:25: UserWarning: d:\\02-Project\\01-Wear Detection\\09-PROKI\\BP_Tool_Wear_Measurement\\Image_Dataset/06_Image_Augmentation/02_Masks/image0000947_cropped_aug_rt.tif is a low contrast image\n",
      "  io.imsave(new_mask_path, transformed_mask)\n",
      "C:\\Users\\karimi\\AppData\\Local\\Temp\\ipykernel_24348\\3534118877.py:25: UserWarning: d:\\02-Project\\01-Wear Detection\\09-PROKI\\BP_Tool_Wear_Measurement\\Image_Dataset/06_Image_Augmentation/02_Masks/image0000947_cropped_aug_hf.tif is a low contrast image\n",
      "  io.imsave(new_mask_path, transformed_mask)\n",
      "C:\\Users\\karimi\\AppData\\Local\\Temp\\ipykernel_24348\\3534118877.py:25: UserWarning: d:\\02-Project\\01-Wear Detection\\09-PROKI\\BP_Tool_Wear_Measurement\\Image_Dataset/06_Image_Augmentation/02_Masks/image0000947_cropped_aug_vf.tif is a low contrast image\n",
      "  io.imsave(new_mask_path, transformed_mask)\n",
      "C:\\Users\\karimi\\AppData\\Local\\Temp\\ipykernel_24348\\3534118877.py:25: UserWarning: d:\\02-Project\\01-Wear Detection\\09-PROKI\\BP_Tool_Wear_Measurement\\Image_Dataset/06_Image_Augmentation/02_Masks/image0000948_cropped_aug_rt.tif is a low contrast image\n",
      "  io.imsave(new_mask_path, transformed_mask)\n",
      "C:\\Users\\karimi\\AppData\\Local\\Temp\\ipykernel_24348\\3534118877.py:25: UserWarning: d:\\02-Project\\01-Wear Detection\\09-PROKI\\BP_Tool_Wear_Measurement\\Image_Dataset/06_Image_Augmentation/02_Masks/image0000948_cropped_aug_hf.tif is a low contrast image\n",
      "  io.imsave(new_mask_path, transformed_mask)\n",
      "C:\\Users\\karimi\\AppData\\Local\\Temp\\ipykernel_24348\\3534118877.py:25: UserWarning: d:\\02-Project\\01-Wear Detection\\09-PROKI\\BP_Tool_Wear_Measurement\\Image_Dataset/06_Image_Augmentation/02_Masks/image0000948_cropped_aug_vf.tif is a low contrast image\n",
      "  io.imsave(new_mask_path, transformed_mask)\n",
      "C:\\Users\\karimi\\AppData\\Local\\Temp\\ipykernel_24348\\3534118877.py:25: UserWarning: d:\\02-Project\\01-Wear Detection\\09-PROKI\\BP_Tool_Wear_Measurement\\Image_Dataset/06_Image_Augmentation/02_Masks/image0000975_cropped_aug_rt.tif is a low contrast image\n",
      "  io.imsave(new_mask_path, transformed_mask)\n",
      "C:\\Users\\karimi\\AppData\\Local\\Temp\\ipykernel_24348\\3534118877.py:25: UserWarning: d:\\02-Project\\01-Wear Detection\\09-PROKI\\BP_Tool_Wear_Measurement\\Image_Dataset/06_Image_Augmentation/02_Masks/image0000975_cropped_aug_hf.tif is a low contrast image\n",
      "  io.imsave(new_mask_path, transformed_mask)\n",
      "C:\\Users\\karimi\\AppData\\Local\\Temp\\ipykernel_24348\\3534118877.py:25: UserWarning: d:\\02-Project\\01-Wear Detection\\09-PROKI\\BP_Tool_Wear_Measurement\\Image_Dataset/06_Image_Augmentation/02_Masks/image0000975_cropped_aug_vf.tif is a low contrast image\n",
      "  io.imsave(new_mask_path, transformed_mask)\n",
      "C:\\Users\\karimi\\AppData\\Local\\Temp\\ipykernel_24348\\3534118877.py:25: UserWarning: d:\\02-Project\\01-Wear Detection\\09-PROKI\\BP_Tool_Wear_Measurement\\Image_Dataset/06_Image_Augmentation/02_Masks/image0000976_cropped_aug_rt.tif is a low contrast image\n",
      "  io.imsave(new_mask_path, transformed_mask)\n",
      "C:\\Users\\karimi\\AppData\\Local\\Temp\\ipykernel_24348\\3534118877.py:25: UserWarning: d:\\02-Project\\01-Wear Detection\\09-PROKI\\BP_Tool_Wear_Measurement\\Image_Dataset/06_Image_Augmentation/02_Masks/image0000976_cropped_aug_hf.tif is a low contrast image\n",
      "  io.imsave(new_mask_path, transformed_mask)\n",
      "C:\\Users\\karimi\\AppData\\Local\\Temp\\ipykernel_24348\\3534118877.py:25: UserWarning: d:\\02-Project\\01-Wear Detection\\09-PROKI\\BP_Tool_Wear_Measurement\\Image_Dataset/06_Image_Augmentation/02_Masks/image0000976_cropped_aug_vf.tif is a low contrast image\n",
      "  io.imsave(new_mask_path, transformed_mask)\n",
      "C:\\Users\\karimi\\AppData\\Local\\Temp\\ipykernel_24348\\3534118877.py:25: UserWarning: d:\\02-Project\\01-Wear Detection\\09-PROKI\\BP_Tool_Wear_Measurement\\Image_Dataset/06_Image_Augmentation/02_Masks/image0001001_cropped_aug_rt.tif is a low contrast image\n",
      "  io.imsave(new_mask_path, transformed_mask)\n",
      "C:\\Users\\karimi\\AppData\\Local\\Temp\\ipykernel_24348\\3534118877.py:25: UserWarning: d:\\02-Project\\01-Wear Detection\\09-PROKI\\BP_Tool_Wear_Measurement\\Image_Dataset/06_Image_Augmentation/02_Masks/image0001001_cropped_aug_hf.tif is a low contrast image\n",
      "  io.imsave(new_mask_path, transformed_mask)\n",
      "C:\\Users\\karimi\\AppData\\Local\\Temp\\ipykernel_24348\\3534118877.py:25: UserWarning: d:\\02-Project\\01-Wear Detection\\09-PROKI\\BP_Tool_Wear_Measurement\\Image_Dataset/06_Image_Augmentation/02_Masks/image0001001_cropped_aug_vf.tif is a low contrast image\n",
      "  io.imsave(new_mask_path, transformed_mask)\n",
      "C:\\Users\\karimi\\AppData\\Local\\Temp\\ipykernel_24348\\3534118877.py:25: UserWarning: d:\\02-Project\\01-Wear Detection\\09-PROKI\\BP_Tool_Wear_Measurement\\Image_Dataset/06_Image_Augmentation/02_Masks/image0001002_cropped_aug_rt.tif is a low contrast image\n",
      "  io.imsave(new_mask_path, transformed_mask)\n",
      "C:\\Users\\karimi\\AppData\\Local\\Temp\\ipykernel_24348\\3534118877.py:25: UserWarning: d:\\02-Project\\01-Wear Detection\\09-PROKI\\BP_Tool_Wear_Measurement\\Image_Dataset/06_Image_Augmentation/02_Masks/image0001002_cropped_aug_hf.tif is a low contrast image\n",
      "  io.imsave(new_mask_path, transformed_mask)\n",
      "C:\\Users\\karimi\\AppData\\Local\\Temp\\ipykernel_24348\\3534118877.py:25: UserWarning: d:\\02-Project\\01-Wear Detection\\09-PROKI\\BP_Tool_Wear_Measurement\\Image_Dataset/06_Image_Augmentation/02_Masks/image0001002_cropped_aug_vf.tif is a low contrast image\n",
      "  io.imsave(new_mask_path, transformed_mask)\n",
      "C:\\Users\\karimi\\AppData\\Local\\Temp\\ipykernel_24348\\3534118877.py:25: UserWarning: d:\\02-Project\\01-Wear Detection\\09-PROKI\\BP_Tool_Wear_Measurement\\Image_Dataset/06_Image_Augmentation/02_Masks/image0001015_cropped_aug_rt.tif is a low contrast image\n",
      "  io.imsave(new_mask_path, transformed_mask)\n",
      "C:\\Users\\karimi\\AppData\\Local\\Temp\\ipykernel_24348\\3534118877.py:25: UserWarning: d:\\02-Project\\01-Wear Detection\\09-PROKI\\BP_Tool_Wear_Measurement\\Image_Dataset/06_Image_Augmentation/02_Masks/image0001015_cropped_aug_hf.tif is a low contrast image\n",
      "  io.imsave(new_mask_path, transformed_mask)\n",
      "C:\\Users\\karimi\\AppData\\Local\\Temp\\ipykernel_24348\\3534118877.py:25: UserWarning: d:\\02-Project\\01-Wear Detection\\09-PROKI\\BP_Tool_Wear_Measurement\\Image_Dataset/06_Image_Augmentation/02_Masks/image0001015_cropped_aug_vf.tif is a low contrast image\n",
      "  io.imsave(new_mask_path, transformed_mask)\n",
      "C:\\Users\\karimi\\AppData\\Local\\Temp\\ipykernel_24348\\3534118877.py:25: UserWarning: d:\\02-Project\\01-Wear Detection\\09-PROKI\\BP_Tool_Wear_Measurement\\Image_Dataset/06_Image_Augmentation/02_Masks/image0001016_cropped_aug_rt.tif is a low contrast image\n",
      "  io.imsave(new_mask_path, transformed_mask)\n",
      "C:\\Users\\karimi\\AppData\\Local\\Temp\\ipykernel_24348\\3534118877.py:25: UserWarning: d:\\02-Project\\01-Wear Detection\\09-PROKI\\BP_Tool_Wear_Measurement\\Image_Dataset/06_Image_Augmentation/02_Masks/image0001016_cropped_aug_hf.tif is a low contrast image\n",
      "  io.imsave(new_mask_path, transformed_mask)\n",
      "C:\\Users\\karimi\\AppData\\Local\\Temp\\ipykernel_24348\\3534118877.py:25: UserWarning: d:\\02-Project\\01-Wear Detection\\09-PROKI\\BP_Tool_Wear_Measurement\\Image_Dataset/06_Image_Augmentation/02_Masks/image0001016_cropped_aug_vf.tif is a low contrast image\n",
      "  io.imsave(new_mask_path, transformed_mask)\n",
      "C:\\Users\\karimi\\AppData\\Local\\Temp\\ipykernel_24348\\3534118877.py:25: UserWarning: d:\\02-Project\\01-Wear Detection\\09-PROKI\\BP_Tool_Wear_Measurement\\Image_Dataset/06_Image_Augmentation/02_Masks/image0001037_cropped_aug_rt.tif is a low contrast image\n",
      "  io.imsave(new_mask_path, transformed_mask)\n",
      "C:\\Users\\karimi\\AppData\\Local\\Temp\\ipykernel_24348\\3534118877.py:25: UserWarning: d:\\02-Project\\01-Wear Detection\\09-PROKI\\BP_Tool_Wear_Measurement\\Image_Dataset/06_Image_Augmentation/02_Masks/image0001037_cropped_aug_hf.tif is a low contrast image\n",
      "  io.imsave(new_mask_path, transformed_mask)\n",
      "C:\\Users\\karimi\\AppData\\Local\\Temp\\ipykernel_24348\\3534118877.py:25: UserWarning: d:\\02-Project\\01-Wear Detection\\09-PROKI\\BP_Tool_Wear_Measurement\\Image_Dataset/06_Image_Augmentation/02_Masks/image0001037_cropped_aug_vf.tif is a low contrast image\n",
      "  io.imsave(new_mask_path, transformed_mask)\n",
      "C:\\Users\\karimi\\AppData\\Local\\Temp\\ipykernel_24348\\3534118877.py:25: UserWarning: d:\\02-Project\\01-Wear Detection\\09-PROKI\\BP_Tool_Wear_Measurement\\Image_Dataset/06_Image_Augmentation/02_Masks/image0001038_cropped_aug_rt.tif is a low contrast image\n",
      "  io.imsave(new_mask_path, transformed_mask)\n",
      "C:\\Users\\karimi\\AppData\\Local\\Temp\\ipykernel_24348\\3534118877.py:25: UserWarning: d:\\02-Project\\01-Wear Detection\\09-PROKI\\BP_Tool_Wear_Measurement\\Image_Dataset/06_Image_Augmentation/02_Masks/image0001038_cropped_aug_hf.tif is a low contrast image\n",
      "  io.imsave(new_mask_path, transformed_mask)\n",
      "C:\\Users\\karimi\\AppData\\Local\\Temp\\ipykernel_24348\\3534118877.py:25: UserWarning: d:\\02-Project\\01-Wear Detection\\09-PROKI\\BP_Tool_Wear_Measurement\\Image_Dataset/06_Image_Augmentation/02_Masks/image0001038_cropped_aug_vf.tif is a low contrast image\n",
      "  io.imsave(new_mask_path, transformed_mask)\n",
      "C:\\Users\\karimi\\AppData\\Local\\Temp\\ipykernel_24348\\3534118877.py:25: UserWarning: d:\\02-Project\\01-Wear Detection\\09-PROKI\\BP_Tool_Wear_Measurement\\Image_Dataset/06_Image_Augmentation/02_Masks/image0001055_cropped_aug_rt.tif is a low contrast image\n",
      "  io.imsave(new_mask_path, transformed_mask)\n",
      "C:\\Users\\karimi\\AppData\\Local\\Temp\\ipykernel_24348\\3534118877.py:25: UserWarning: d:\\02-Project\\01-Wear Detection\\09-PROKI\\BP_Tool_Wear_Measurement\\Image_Dataset/06_Image_Augmentation/02_Masks/image0001055_cropped_aug_hf.tif is a low contrast image\n",
      "  io.imsave(new_mask_path, transformed_mask)\n",
      "C:\\Users\\karimi\\AppData\\Local\\Temp\\ipykernel_24348\\3534118877.py:25: UserWarning: d:\\02-Project\\01-Wear Detection\\09-PROKI\\BP_Tool_Wear_Measurement\\Image_Dataset/06_Image_Augmentation/02_Masks/image0001055_cropped_aug_vf.tif is a low contrast image\n",
      "  io.imsave(new_mask_path, transformed_mask)\n",
      "C:\\Users\\karimi\\AppData\\Local\\Temp\\ipykernel_24348\\3534118877.py:25: UserWarning: d:\\02-Project\\01-Wear Detection\\09-PROKI\\BP_Tool_Wear_Measurement\\Image_Dataset/06_Image_Augmentation/02_Masks/image0001056_cropped_aug_rt.tif is a low contrast image\n",
      "  io.imsave(new_mask_path, transformed_mask)\n",
      "C:\\Users\\karimi\\AppData\\Local\\Temp\\ipykernel_24348\\3534118877.py:25: UserWarning: d:\\02-Project\\01-Wear Detection\\09-PROKI\\BP_Tool_Wear_Measurement\\Image_Dataset/06_Image_Augmentation/02_Masks/image0001056_cropped_aug_hf.tif is a low contrast image\n",
      "  io.imsave(new_mask_path, transformed_mask)\n",
      "C:\\Users\\karimi\\AppData\\Local\\Temp\\ipykernel_24348\\3534118877.py:25: UserWarning: d:\\02-Project\\01-Wear Detection\\09-PROKI\\BP_Tool_Wear_Measurement\\Image_Dataset/06_Image_Augmentation/02_Masks/image0001056_cropped_aug_vf.tif is a low contrast image\n",
      "  io.imsave(new_mask_path, transformed_mask)\n",
      "C:\\Users\\karimi\\AppData\\Local\\Temp\\ipykernel_24348\\3534118877.py:25: UserWarning: d:\\02-Project\\01-Wear Detection\\09-PROKI\\BP_Tool_Wear_Measurement\\Image_Dataset/06_Image_Augmentation/02_Masks/image0001073_cropped_aug_rt.tif is a low contrast image\n",
      "  io.imsave(new_mask_path, transformed_mask)\n",
      "C:\\Users\\karimi\\AppData\\Local\\Temp\\ipykernel_24348\\3534118877.py:25: UserWarning: d:\\02-Project\\01-Wear Detection\\09-PROKI\\BP_Tool_Wear_Measurement\\Image_Dataset/06_Image_Augmentation/02_Masks/image0001073_cropped_aug_hf.tif is a low contrast image\n",
      "  io.imsave(new_mask_path, transformed_mask)\n",
      "C:\\Users\\karimi\\AppData\\Local\\Temp\\ipykernel_24348\\3534118877.py:25: UserWarning: d:\\02-Project\\01-Wear Detection\\09-PROKI\\BP_Tool_Wear_Measurement\\Image_Dataset/06_Image_Augmentation/02_Masks/image0001073_cropped_aug_vf.tif is a low contrast image\n",
      "  io.imsave(new_mask_path, transformed_mask)\n",
      "C:\\Users\\karimi\\AppData\\Local\\Temp\\ipykernel_24348\\3534118877.py:25: UserWarning: d:\\02-Project\\01-Wear Detection\\09-PROKI\\BP_Tool_Wear_Measurement\\Image_Dataset/06_Image_Augmentation/02_Masks/image0001074_cropped_aug_rt.tif is a low contrast image\n",
      "  io.imsave(new_mask_path, transformed_mask)\n",
      "C:\\Users\\karimi\\AppData\\Local\\Temp\\ipykernel_24348\\3534118877.py:25: UserWarning: d:\\02-Project\\01-Wear Detection\\09-PROKI\\BP_Tool_Wear_Measurement\\Image_Dataset/06_Image_Augmentation/02_Masks/image0001074_cropped_aug_hf.tif is a low contrast image\n",
      "  io.imsave(new_mask_path, transformed_mask)\n",
      "C:\\Users\\karimi\\AppData\\Local\\Temp\\ipykernel_24348\\3534118877.py:25: UserWarning: d:\\02-Project\\01-Wear Detection\\09-PROKI\\BP_Tool_Wear_Measurement\\Image_Dataset/06_Image_Augmentation/02_Masks/image0001074_cropped_aug_vf.tif is a low contrast image\n",
      "  io.imsave(new_mask_path, transformed_mask)\n",
      "C:\\Users\\karimi\\AppData\\Local\\Temp\\ipykernel_24348\\3534118877.py:25: UserWarning: d:\\02-Project\\01-Wear Detection\\09-PROKI\\BP_Tool_Wear_Measurement\\Image_Dataset/06_Image_Augmentation/02_Masks/image0001075_cropped_aug_rt.tif is a low contrast image\n",
      "  io.imsave(new_mask_path, transformed_mask)\n",
      "C:\\Users\\karimi\\AppData\\Local\\Temp\\ipykernel_24348\\3534118877.py:25: UserWarning: d:\\02-Project\\01-Wear Detection\\09-PROKI\\BP_Tool_Wear_Measurement\\Image_Dataset/06_Image_Augmentation/02_Masks/image0001075_cropped_aug_hf.tif is a low contrast image\n",
      "  io.imsave(new_mask_path, transformed_mask)\n",
      "C:\\Users\\karimi\\AppData\\Local\\Temp\\ipykernel_24348\\3534118877.py:25: UserWarning: d:\\02-Project\\01-Wear Detection\\09-PROKI\\BP_Tool_Wear_Measurement\\Image_Dataset/06_Image_Augmentation/02_Masks/image0001075_cropped_aug_vf.tif is a low contrast image\n",
      "  io.imsave(new_mask_path, transformed_mask)\n",
      "C:\\Users\\karimi\\AppData\\Local\\Temp\\ipykernel_24348\\3534118877.py:25: UserWarning: d:\\02-Project\\01-Wear Detection\\09-PROKI\\BP_Tool_Wear_Measurement\\Image_Dataset/06_Image_Augmentation/02_Masks/image0001076_cropped_aug_rt.tif is a low contrast image\n",
      "  io.imsave(new_mask_path, transformed_mask)\n",
      "C:\\Users\\karimi\\AppData\\Local\\Temp\\ipykernel_24348\\3534118877.py:25: UserWarning: d:\\02-Project\\01-Wear Detection\\09-PROKI\\BP_Tool_Wear_Measurement\\Image_Dataset/06_Image_Augmentation/02_Masks/image0001076_cropped_aug_hf.tif is a low contrast image\n",
      "  io.imsave(new_mask_path, transformed_mask)\n",
      "C:\\Users\\karimi\\AppData\\Local\\Temp\\ipykernel_24348\\3534118877.py:25: UserWarning: d:\\02-Project\\01-Wear Detection\\09-PROKI\\BP_Tool_Wear_Measurement\\Image_Dataset/06_Image_Augmentation/02_Masks/image0001076_cropped_aug_vf.tif is a low contrast image\n",
      "  io.imsave(new_mask_path, transformed_mask)\n"
     ]
    }
   ],
   "source": [
    "for i in range(len(images)): \n",
    "    image = images[i]\n",
    "    mask = masks[i]\n",
    "    original_image = io.imread(image)\n",
    "    original_mask = io.imread(mask)\n",
    "    transformed_image = None\n",
    "    transformed_mask = None\n",
    "    \n",
    "    for n in range(len(transformations)):\n",
    "        key = list(transformations)[n] #choosing method to call\n",
    "        seed = random.randint(1,100)  #Generate seed to supply transformation functions. \n",
    "        # Generating the augmented data\n",
    "        transformed_image = transformations[key](original_image,seed)\n",
    "        transformed_mask = transformations[key](original_mask,seed)\n",
    "        # Saving the augmented data\n",
    "        new_image_path= \"%s/%s_aug_%s.tif\" %(img_augmented_path, images_name[i][:-4], key)\n",
    "        new_mask_path= \"%s/%s_aug_%s.tif\" %(msk_augmented_path, masks_name[i][:-4], key)\n",
    "        io.imsave(new_image_path, transformed_image)\n",
    "        io.imsave(new_mask_path, transformed_mask)"
   ]
  }
 ],
 "metadata": {
  "kernelspec": {
   "display_name": "Wear",
   "language": "python",
   "name": "python3"
  },
  "language_info": {
   "codemirror_mode": {
    "name": "ipython",
    "version": 3
   },
   "file_extension": ".py",
   "mimetype": "text/x-python",
   "name": "python",
   "nbconvert_exporter": "python",
   "pygments_lexer": "ipython3",
   "version": "3.10.13"
  },
  "orig_nbformat": 4
 },
 "nbformat": 4,
 "nbformat_minor": 2
}
